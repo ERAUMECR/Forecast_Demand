{
 "cells": [
  {
   "cell_type": "code",
   "execution_count": 12,
   "metadata": {},
   "outputs": [],
   "source": [
    "import tensorflow as tf\n",
    "import pandas as pd\n",
    "from bokeh.plotting import figure, output_file, show\n",
    "\n",
    "#Read the data from excel\n",
    "data = pd.read_excel('C:/Users/ERIC/Desktop/Jupyter/Forecast_Demand/SEMANAL DEMANDA ELÉCTRICA PARA CONCENTRADO SIN.xlsx')\n",
    "\n",
    "# output to static HTML file\n",
    "output_file(\"demand.html\")\n",
    "\n",
    "# create a new plot with a title and axis labels\n",
    "p = figure(title=\"demand behaviour\", x_axis_label='Tiempo[Semanas]', y_axis_label='[MW]')\n",
    "\n",
    "# add the data\n",
    "p.line(data['Semana'], data[2018], legend_label = \"Demanda 2018\", color = 'blue')\n",
    "p.line(data['Semana'], data[2019], legend_label = \"Demanda 2019\", color = 'red')\n",
    "\n",
    "# show the results\n",
    "show(p)\n",
    "\n",
    "input_tensor_8 = tf.keras.Input(shape=(1,))\n",
    "\n"
   ]
  },
  {
   "cell_type": "code",
   "execution_count": null,
   "metadata": {},
   "outputs": [],
   "source": []
  }
 ],
 "metadata": {
  "kernelspec": {
   "display_name": "Python 3.7 (tensorflow)",
   "language": "python",
   "name": "tensorflow"
  },
  "language_info": {
   "codemirror_mode": {
    "name": "ipython",
    "version": 3
   },
   "file_extension": ".py",
   "mimetype": "text/x-python",
   "name": "python",
   "nbconvert_exporter": "python",
   "pygments_lexer": "ipython3",
   "version": "3.7.6"
  }
 },
 "nbformat": 4,
 "nbformat_minor": 4
}
