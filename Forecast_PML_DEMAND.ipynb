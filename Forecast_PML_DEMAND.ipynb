{
 "cells": [
  {
   "cell_type": "code",
   "execution_count": 29,
   "metadata": {},
   "outputs": [
    {
     "ename": "SyntaxError",
     "evalue": "invalid syntax (<ipython-input-29-7ebc35cbc852>, line 45)",
     "output_type": "error",
     "traceback": [
      "\u001b[1;36m  File \u001b[1;32m\"<ipython-input-29-7ebc35cbc852>\"\u001b[1;36m, line \u001b[1;32m45\u001b[0m\n\u001b[1;33m    model.add(keras.layers.Dense(50, activation ='linear')\u001b[0m\n\u001b[1;37m        ^\u001b[0m\n\u001b[1;31mSyntaxError\u001b[0m\u001b[1;31m:\u001b[0m invalid syntax\n"
     ]
    }
   ],
   "source": [
    "import tensorflow as tf\n",
    "import pandas as pd\n",
    "from bokeh.plotting import figure, output_file, show\n",
    "from bokeh.models import HoverTool\n",
    "import matplotlib.pyplot as plt\n",
    "\n",
    "# read the data from excel\n",
    "data = pd.read_excel('C:/Users/Operaciones F/Forecast_Demand/SEMANAL DEMANDA ELÉCTRICA PARA CONCENTRADO SIN.xlsx')\n",
    "'''\n",
    "# create a new plot with a title and axis labels\n",
    "p = figure(title=\"Demand behaviour\", x_axis_label='Tiempo[Semanas]', y_axis_label='[MW]')\n",
    "\n",
    "# add the data\n",
    "\n",
    "p.line(data['Semana'], data[2018], legend_label = \"Demanda 2018\", color = 'blue')\n",
    "p.line(data['Semana'], data[2019], legend_label = \"Demanda 2019\", color = 'red')\n",
    "\n",
    "\n",
    "# Add circle glyphs to figure p\n",
    "p.circle(data['Semana'], data[2018],\n",
    "         size=5,\n",
    "         fill_color='black', alpha=0.3,\n",
    "         line_color=None,\n",
    "         hover_fill_color='firebrick', hover_alpha=0.5,\n",
    "         hover_line_color='white')\n",
    "\n",
    "# Create a HoverTool: hover\n",
    "hover = HoverTool(tooltips=None,mode='vline')\n",
    "\n",
    "# Add the hover tool to the figure p\n",
    "p.add_tools(hover)\n",
    "\n",
    "# show the results\n",
    "show(p)\n",
    "\n",
    "# output to static HTML file\n",
    "output_file(\"demand.html\")\n",
    "'''\n",
    "\n",
    "\n",
    "# Create the model\n",
    "model = keras.layers.Sequential()\n",
    "\n",
    "model.add(keras.layers.Dense(50, activation ='linear', input_shape=(1,))\n",
    "model.add(keras.layers.Dense(50, activation ='linear')\n",
    "model.add(tf.keras.layers.Dense(1, activation ='sigmoid')\n",
    "\n",
    "model.compile(optimizer = tf.keras.optimizers.Adam(0.01), loss = ['mean_absolute_error'], metris =['accuracy'])\n",
    "\n",
    "# Summarize the model\n",
    "model.summary()\n",
    "\n",
    "# Now fit the model\n",
    "model.fit(data[2018], data['Semana'],\n",
    "          epochs=5,\n",
    "          batch_size=53,\n",
    "          validation_split=0.3,\n",
    "          verbose=True)\n",
    "\n",
    "x_test = data[2018]\n",
    "model.evaluate(data[2018], data[2019], verbose = True)\n",
    "\n",
    "model.predict(x_test[:2])"
   ]
  }
 ],
 "metadata": {
  "kernelspec": {
   "display_name": "Python 3.7 (tensorflow)",
   "language": "python",
   "name": "tensorflow"
  },
  "language_info": {
   "codemirror_mode": {
    "name": "ipython",
    "version": 3
   },
   "file_extension": ".py",
   "mimetype": "text/x-python",
   "name": "python",
   "nbconvert_exporter": "python",
   "pygments_lexer": "ipython3",
   "version": "3.7.6"
  }
 },
 "nbformat": 4,
 "nbformat_minor": 4
}
