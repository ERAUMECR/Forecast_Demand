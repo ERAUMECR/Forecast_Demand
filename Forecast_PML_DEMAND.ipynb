{
 "cells": [
  {
   "cell_type": "code",
   "execution_count": 9,
   "metadata": {},
   "outputs": [
    {
     "data": {
      "text/plain": [
       "\"\\n# Create the model\\nmodel = keras.layers.Sequential()\\n\\nmodel.add(keras.layers.Dense(50, activation ='linear', input_shape=(1,))\\nmodel.add(keras.layers.Dense(50, activation ='linear')\\nmodel.add(tf.keras.layers.Dense(1, activation ='sigmoid')\\n\\nmodel.compile(optimizer = tf.keras.optimizers.Adam(0.01), loss = ['mean_absolute_error'], metris =['accuracy'])\\n\\n# Summarize the model\\nmodel.summary()\\n\\n# Now fit the model\\nmodel.fit(data[2018], data['Semana'],\\n          epochs=5,\\n          batch_size=53,\\n          validation_split=0.3,\\n          verbose=True)\\n\\nx_test = data[2018]\\nmodel.evaluate(data[2018], data[2019], verbose = True)\\n\\nmodel.predict(x_test[:2])\\n\""
      ]
     },
     "execution_count": 9,
     "metadata": {},
     "output_type": "execute_result"
    }
   ],
   "source": [
    "import tensorflow as tf\n",
    "import pandas as pd\n",
    "from bokeh.plotting import figure, output_file, show\n",
    "from bokeh.models import HoverTool\n",
    "import matplotlib.pyplot as plt\n",
    "\n",
    "# read the data from excel\n",
    "data = pd.read_excel('C:/Users/Operaciones F/Forecast_Demand/Forecaste_PML_Daily_b.xlsx')\n",
    "\n",
    "# create a new plot with a title and axis labels\n",
    "p = figure(title=\"PML's DAILY BEHAVIOUR 2018\", x_axis_label='TIEMPO [MESES]', y_axis_label='[$ / MWh ]')\n",
    "\n",
    "# add the data\n",
    "\n",
    "p.line(data['MES'], data['lun_18'], legend_label = \"Lunes 2018\", color = 'blue')\n",
    "p.line(data['MES'], data['mar_18'], legend_label = \"Martes 2018\", color = 'red')\n",
    "p.line(data['MES'], data['mie_18'], legend_label = \"Miércoles 2018\", color = 'black')\n",
    "p.line(data['MES'], data['jue_18'], legend_label = \"Jueves 2018\", color = 'green')\n",
    "p.line(data['MES'], data['vie_18'], legend_label = \"Viernes 2018\", color = 'gray')\n",
    "p.line(data['MES'], data['sáb_18'], legend_label = \"Sábado 2018\", color = 'yellow')\n",
    "p.line(data['MES'], data['dom_18'], legend_label = \"Domingo 2018\", color = 'brown')\n",
    "\n",
    "# show the results\n",
    "show(p)\n",
    "\n",
    "# output to static HTML file\n",
    "output_file(\"PML2018.html\")\n",
    "\n",
    "p2 = figure(title=\"PML's DAILY BEHAVIOUR 2018\", x_axis_label='TIEMPO [MESES]', y_axis_label='[$ / MWh ]')\n",
    "\n",
    "# add the data\n",
    "\n",
    "p2.line(data['MES'], data['lun_19'], legend_label = \"Lunes 2019\", color = 'blue')\n",
    "p2.line(data['MES'], data['mar_19'], legend_label = \"Martes 2019\", color = 'red')\n",
    "p2.line(data['MES'], data['mie_19'], legend_label = \"Miércoles 2019\", color = 'black')\n",
    "p2.line(data['MES'], data['jue_19'], legend_label = \"Jueves 2019\", color = 'green')\n",
    "p2.line(data['MES'], data['vie_19'], legend_label = \"Viernes 2019\", color = 'gray')\n",
    "p2.line(data['MES'], data['sáb_19'], legend_label = \"Sábado 2019\", color = 'yellow')\n",
    "p2.line(data['MES'], data['dom_19'], legend_label = \"Domingo 2019\", color = 'brown')\n",
    "\n",
    "# show the results\n",
    "show(p2)\n",
    "\n",
    "# output to static HTML file\n",
    "output_file(\"PML2019.html\")\n",
    "\n",
    "'''\n",
    "# Create the model\n",
    "model = keras.layers.Sequential()\n",
    "\n",
    "model.add(keras.layers.Dense(50, activation ='linear', input_shape=(1,))\n",
    "model.add(keras.layers.Dense(50, activation ='linear')\n",
    "model.add(tf.keras.layers.Dense(1, activation ='sigmoid')\n",
    "\n",
    "model.compile(optimizer = tf.keras.optimizers.Adam(0.01), loss = ['mean_absolute_error'], metris =['accuracy'])\n",
    "\n",
    "# Summarize the model\n",
    "model.summary()\n",
    "\n",
    "# Now fit the model\n",
    "model.fit(data[2018], data['Semana'],\n",
    "          epochs=5,\n",
    "          batch_size=53,\n",
    "          validation_split=0.3,\n",
    "          verbose=True)\n",
    "\n",
    "x_test = data[2018]\n",
    "model.evaluate(data[2018], data[2019], verbose = True)\n",
    "\n",
    "model.predict(x_test[:2])\n",
    "'''"
   ]
  }
 ],
 "metadata": {
  "kernelspec": {
   "display_name": "Python 3.7 (tensorflow)",
   "language": "python",
   "name": "tensorflow"
  },
  "language_info": {
   "codemirror_mode": {
    "name": "ipython",
    "version": 3
   },
   "file_extension": ".py",
   "mimetype": "text/x-python",
   "name": "python",
   "nbconvert_exporter": "python",
   "pygments_lexer": "ipython3",
   "version": "3.7.6"
  }
 },
 "nbformat": 4,
 "nbformat_minor": 4
}
