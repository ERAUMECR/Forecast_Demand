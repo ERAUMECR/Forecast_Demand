{
 "cells": [
  {
   "cell_type": "code",
   "execution_count": 29,
   "metadata": {},
   "outputs": [
    {
     "name": "stdout",
     "output_type": "stream",
     "text": [
      "Model: \"model_22\"\n",
      "_________________________________________________________________\n",
      "Layer (type)                 Output Shape              Param #   \n",
      "=================================================================\n",
      "input_23 (InputLayer)        [(None, 1)]               0         \n",
      "_________________________________________________________________\n",
      "dense_22 (Dense)             (None, 1)                 2         \n",
      "=================================================================\n",
      "Total params: 2\n",
      "Trainable params: 2\n",
      "Non-trainable params: 0\n",
      "_________________________________________________________________\n"
     ]
    }
   ],
   "source": [
    "import tensorflow as tf\n",
    "import pandas as pd\n",
    "from bokeh.plotting import figure, output_file, show\n",
    "from bokeh.models import HoverTool\n",
    "from keras.utils import plot_model\n",
    "import matplotlib.pyplot as plt\n",
    "\n",
    "# read the data from excel\n",
    "data = pd.read_excel('C:/Users/Operaciones F/Forecast_Demand/SEMANAL DEMANDA ELÉCTRICA PARA CONCENTRADO SIN.xlsx')\n",
    "'''\n",
    "# create a new plot with a title and axis labels\n",
    "p = figure(title=\"Demand behaviour\", x_axis_label='Tiempo[Semanas]', y_axis_label='[MW]')\n",
    "\n",
    "# add the data\n",
    "\n",
    "p.line(data['Semana'], data[2018], legend_label = \"Demanda 2018\", color = 'blue')\n",
    "p.line(data['Semana'], data[2019], legend_label = \"Demanda 2019\", color = 'red')\n",
    "\n",
    "\n",
    "# Add circle glyphs to figure p\n",
    "p.circle(data['Semana'], data[2018],\n",
    "         size=5,\n",
    "         fill_color='black', alpha=0.3,\n",
    "         line_color=None,\n",
    "         hover_fill_color='firebrick', hover_alpha=0.5,\n",
    "         hover_line_color='white')\n",
    "\n",
    "# Create a HoverTool: hover\n",
    "hover = HoverTool(tooltips=None,mode='vline')\n",
    "\n",
    "# Add the hover tool to the figure p\n",
    "p.add_tools(hover)\n",
    "\n",
    "# show the results\n",
    "show(p)\n",
    "\n",
    "# output to static HTML file\n",
    "output_file(\"demand.html\")\n",
    "'''\n",
    "\n",
    "input_tensor_8 = tf.keras.Input(shape=(1,))\n",
    "\n",
    "output_tensor_8 = tf.keras.layers.Dense(1)(input_tensor_8)\n",
    "\n",
    "# Create the model\n",
    "model = tf.keras.Model(input_tensor_8, output_tensor_8)\n",
    "\n",
    "model.compile(optimizer = 'adam', loss = 'mean_absolute_error')\n",
    "\n",
    "# Summarize the model\n",
    "model.summary()\n"
   ]
  }
 ],
 "metadata": {
  "kernelspec": {
   "display_name": "Python 3.7 (tensorflow)",
   "language": "python",
   "name": "tensorflow"
  },
  "language_info": {
   "codemirror_mode": {
    "name": "ipython",
    "version": 3
   },
   "file_extension": ".py",
   "mimetype": "text/x-python",
   "name": "python",
   "nbconvert_exporter": "python",
   "pygments_lexer": "ipython3",
   "version": "3.7.6"
  }
 },
 "nbformat": 4,
 "nbformat_minor": 4
}
